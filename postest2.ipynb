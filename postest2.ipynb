{
 "cells": [
  {
   "cell_type": "markdown",
   "metadata": {},
   "source": [
    "1.a disini saya mengimport library python untuk membaca dataset.csv yaitu pandas.saya menerjakan clue pertaman yaitu menampilkan rata-rata data dari atribut yang bertipe integer.pertama saya membaca data.csv saya dengan variable 'data'.dimana fungsi 'data = pd.read_csv('Shouth_China.csv') digunakan untuk membaca file csv dengan menggunakan library pandas.integer_columns = data.select_dtypes(include= 'int') digunakan untuk memanggil atribut dengan tipe data berupa integer.mean_value = integer_columns.mean() digunakan untuk menjumlahkan rata-rata data integer tersebut dengan print(mean_value). dan bisa dilihat rata-rata nilai dari tiap atribut tersebut."
   ]
  },
  {
   "cell_type": "code",
   "execution_count": 1,
   "metadata": {},
   "outputs": [
    {
     "name": "stdout",
     "output_type": "stream",
     "text": [
      "ID                       10750.500000\n",
      "Registration_Duration       33.756000\n",
      "Revenue                     58.387333\n",
      "dtype: float64\n"
     ]
    }
   ],
   "source": [
    "import pandas as pd\n",
    "\n",
    "data = pd.read_csv('South_China.csv')\n",
    "\n",
    "integer_columns = data.select_dtypes(include ='int')\n",
    "\n",
    "mean_value = integer_columns.mean()\n",
    "\n",
    "print(mean_value)"
   ]
  },
  {
   "cell_type": "markdown",
   "metadata": {},
   "source": [
    "1.b disini saya juga mengimport pandas dan menggunakan fungsi untuk membaca file sama seperti sebelumnya,untuk menentukan devisiasi dari sebuah data ID,Registration_Duration,dan Revenue saya menggunkan fungsi std untuk menentukan standar deviasi data yang bertipe integer"
   ]
  },
  {
   "cell_type": "code",
   "execution_count": 3,
   "metadata": {},
   "outputs": [
    {
     "name": "stdout",
     "output_type": "stream",
     "text": [
      "ID                       433.157015\n",
      "Registration_Duration     10.928133\n",
      "Revenue                   61.862056\n",
      "dtype: float64\n"
     ]
    }
   ],
   "source": [
    "import pandas as pd\n",
    "\n",
    "data = pd.read_csv('South_China.csv')\n",
    "kolom_standar_deviasi = ['ID', 'Registration_Duration', 'Revenue']\n",
    "\n",
    "standar_deviasi = data[kolom_standar_deviasi].std()\n",
    "\n",
    "print(standar_deviasi)"
   ]
  },
  {
   "cell_type": "markdown",
   "metadata": {},
   "source": [
    "1.c disini saya mengimpor pandas untuk membaca file csv saya dan fungsi pd.read_csv. pada kolom_minimum saya menentukan atribut yang ingin dicari nilai minimumnya yang bertipe data integer seperti yang terlihat dan delanjutnya pada variable nilai_minimum saya menggunakan fungsi min untuk mencari nilai minimum pada setiap atribut yang bertipe integer tersebut.dan hasilnya adalah nilai minimum dari setiap atribut sepeerti pada outputnya yang terlihat"
   ]
  },
  {
   "cell_type": "code",
   "execution_count": 4,
   "metadata": {},
   "outputs": [
    {
     "name": "stdout",
     "output_type": "stream",
     "text": [
      "ID                       10001\n",
      "Registration_Duration       19\n",
      "Revenue                     13\n",
      "dtype: int64\n"
     ]
    }
   ],
   "source": [
    "import pandas as pd\n",
    "\n",
    "data = pd.read_csv('South_China.csv')\n",
    "\n",
    "kolom_minimum = ['ID','Registration_Duration','Revenue']\n",
    "\n",
    "nilai_minimum = data[kolom_minimum].min()\n",
    "\n",
    "print(nilai_minimum)"
   ]
  },
  {
   "cell_type": "markdown",
   "metadata": {},
   "source": [
    "1.d pada nilai maksimum caranya sama dengan mencari nilai minimum hanya saja perbedaan fungsi yang dipakai terletak pada menghitung nilai minimumnya kita menggunaka fungsi 'max' untuk mencari nilai maksimum dari dataset tersebut.dan terlihat di outputnya nilai maksimal yang muncul."
   ]
  },
  {
   "cell_type": "code",
   "execution_count": 5,
   "metadata": {},
   "outputs": [
    {
     "name": "stdout",
     "output_type": "stream",
     "text": [
      "ID                       11500\n",
      "Registration_Duration       72\n",
      "Revenue                    981\n",
      "dtype: int64\n"
     ]
    }
   ],
   "source": [
    "import pandas as pd\n",
    "\n",
    "data = pd.read_csv('South_China.csv')\n",
    "\n",
    "kolom_maksimum = ['ID','Registration_Duration','Revenue']\n",
    "\n",
    "nilai_maksimum = data[kolom_maksimum].max()\n",
    "\n",
    "print(nilai_maksimum)"
   ]
  },
  {
   "cell_type": "markdown",
   "metadata": {},
   "source": [
    "2.pada kasus ini kita diminta untuk menampilkan 10 record pertama dengan atribut bertipe integer jadi fungsi yang kita gunaka adalah 'head(10)' pada kodingan saya saya memanggil dulu atribut yang bertipe integer pada variable kolom_sepuluhpertama,lalu saya menggunakan fungsi head pada variable nilai_sepuluhpertama lalu print untuk memanggil nilai head dan hasilnya seperti yang terlihat pada putputnya."
   ]
  },
  {
   "cell_type": "code",
   "execution_count": 6,
   "metadata": {},
   "outputs": [
    {
     "name": "stdout",
     "output_type": "stream",
     "text": [
      "      ID  Registration_Duration  Revenue\n",
      "0  10001                     29       46\n",
      "1  10002                     58      105\n",
      "2  10003                     36       55\n",
      "3  10004                     32       28\n",
      "4  10005                     26       32\n",
      "5  10006                     37       40\n",
      "6  10007                     27       40\n",
      "7  10008                     26       32\n",
      "8  10009                     59      172\n",
      "9  10010                     22       24\n"
     ]
    }
   ],
   "source": [
    "import pandas as pd\n",
    "\n",
    "data = pd.read_csv('South_China.csv')\n",
    "\n",
    "kolom_sepuluhpertama = ['ID','Registration_Duration','Revenue']\n",
    "\n",
    "nilai_sepuluhpertama = data[kolom_sepuluhpertama].head(10)\n",
    "\n",
    "print(nilai_sepuluhpertama)"
   ]
  },
  {
   "cell_type": "markdown",
   "metadata": {},
   "source": [
    "3.untuk mencari jumlah record kita mneggunakan fungsi 'len(data)',untuk mencari jumlah atribut kita menggunakan fungsi 'len(data.columns)',untuk untuk mencari jumlah atribut bertipe integer sama seperti sebelumnya kita menggunakan len(data.select_dtypes(include='number').columns).dan untuk mendapatkan hasil dictionary yang sesuai kita menggunakan key dan value yang benar dengan print('Informasi Dataset: Dari South_China')\n",
    "for key, value in informasi_dict.items():\n",
    "    print(f'{key}: {value}') maka dari itu akan menghasilkan output sesuai susunan yang kita inginkan."
   ]
  },
  {
   "cell_type": "code",
   "execution_count": 11,
   "metadata": {},
   "outputs": [
    {
     "name": "stdout",
     "output_type": "stream",
     "text": [
      "Informasi Dataset: Dari South_China\n",
      "Jumlah Record: 1500\n",
      "Jumlah Attribute: 5\n",
      "Nama Attribute: ['ID', 'Registration_Duration', 'Revenue', 'Cost', 'Renewal']\n",
      "Jumlah Attribute Numerik: 4\n"
     ]
    }
   ],
   "source": [
    "import pandas as pd\n",
    "\n",
    "# Membaca dataset dari file CSV\n",
    "data = pd.read_csv('South_China.csv')\n",
    "\n",
    "# Mendapatkan informasi jumlah record\n",
    "jumlah_record = len(data)\n",
    "\n",
    "# Mendapatkan informasi jumlah attribute\n",
    "jumlah_attribute = len(data.columns)\n",
    "\n",
    "# Mendapatkan nama-nama attribute\n",
    "nama_attribute = list(data.columns)\n",
    "\n",
    "# Mendapatkan jumlah attribute dengan tipe angka\n",
    "jumlah_attribute_numerik = len(data.select_dtypes(include='number').columns)\n",
    "\n",
    "# Membuat dictionary dengan informasi yang diperoleh\n",
    "informasi_dict = {\n",
    "    'Jumlah Record': jumlah_record,\n",
    "    'Jumlah Attribute': jumlah_attribute,\n",
    "    'Nama Attribute': nama_attribute,\n",
    "    'Jumlah Attribute Numerik': jumlah_attribute_numerik\n",
    "}\n",
    "\n",
    "\n",
    "print('Informasi Dataset: Dari South_China')\n",
    "for key, value in informasi_dict.items():\n",
    "    print(f'{key}: {value}')\n",
    "\n",
    "\n"
   ]
  },
  {
   "cell_type": "markdown",
   "metadata": {},
   "source": [
    "4.a pada slice data pertama kita menggunakan fungsi 'iloc' dengan nim terakhir saya (086)jadi saya mengambil data dengan 86 pertama hingga terakhir,karena terakhir jadi penulisannya [86:,3:] artinya kita mnegambil data dari 86 hingga terakhir dan kolom ke 4 hingga terakhir."
   ]
  },
  {
   "cell_type": "code",
   "execution_count": 12,
   "metadata": {},
   "outputs": [
    {
     "name": "stdout",
     "output_type": "stream",
     "text": [
      "Metode Slice 1:\n",
      "          Cost  Renewal\n",
      "86    13.94103    False\n",
      "87     8.29143     True\n",
      "88     2.90826    False\n",
      "89     0.70941     True\n",
      "90     5.30292     True\n",
      "...        ...      ...\n",
      "1495   9.76910     True\n",
      "1496   1.65636     True\n",
      "1497   0.54784     True\n",
      "1498   6.36115     True\n",
      "1499   1.48944     True\n",
      "\n",
      "[1414 rows x 2 columns]\n"
     ]
    }
   ],
   "source": [
    "slicedData1 = data.iloc[86:, 3:]\n",
    "\n",
    "\n",
    "print(\"Metode Slice 1:\")\n",
    "print(slicedData1)"
   ]
  },
  {
   "cell_type": "markdown",
   "metadata": {},
   "source": [
    "4.b pada slice 2 sama dengan slice 1 hanya saja pada kasus ini kita menggunakan 'copy()' yang artinya kita membuat salinan dari hasil slice tanpa mempengaruhi dataframe asli(data)."
   ]
  },
  {
   "cell_type": "code",
   "execution_count": 13,
   "metadata": {},
   "outputs": [
    {
     "name": "stdout",
     "output_type": "stream",
     "text": [
      "\n",
      "Metode Slice 2:\n",
      "          Cost  Renewal\n",
      "86    13.94103    False\n",
      "87     8.29143     True\n",
      "88     2.90826    False\n",
      "89     0.70941     True\n",
      "90     5.30292     True\n",
      "...        ...      ...\n",
      "1495   9.76910     True\n",
      "1496   1.65636     True\n",
      "1497   0.54784     True\n",
      "1498   6.36115     True\n",
      "1499   1.48944     True\n",
      "\n",
      "[1414 rows x 2 columns]\n"
     ]
    }
   ],
   "source": [
    "slicedData2 = data.iloc[86:, 3:].copy()\n",
    "\n",
    "print(\"\\nMetode Slice 2:\")\n",
    "print(slicedData2)"
   ]
  },
  {
   "cell_type": "markdown",
   "metadata": {},
   "source": [
    "5. untuk menampilkan semua data bertipe object pada dataset kita menggunakan data.select_dtypes(include=['object']) untuk memilih tipe data yang ingin ditapilkan disini saya menggunakan object untuk menampilkan tipe data object atau string secara umum. dan fungsi object_attributes.apply(lambda x: x.nunique()) untuk mendapatkan jumlah label untuk setiap atribut.dan outputnya kosong artinya tidak ada data yang bertipe object dalam dataset saya.seperti yang terlihat pada codingan selanjutnya hanya ada tipe data float,integer,dan boolean.dengan menggunakan data.info()."
   ]
  },
  {
   "cell_type": "code",
   "execution_count": 23,
   "metadata": {},
   "outputs": [
    {
     "name": "stdout",
     "output_type": "stream",
     "text": [
      "Jumlah label untuk atribut dengan tipe data 'object':\n",
      "Series([], dtype: float64)\n"
     ]
    }
   ],
   "source": [
    "import pandas as pd\n",
    "\n",
    "# Membaca dataset dari file CSV\n",
    "data = pd.read_csv('South_China.csv')\n",
    "\n",
    "# Memilih atribut dengan tipe data 'object' (yang umumnya merupakan teks atau karakter)\n",
    "object_attributes = data.select_dtypes(include=['object'])\n",
    "\n",
    "# Mendapatkan jumlah label untuk setiap atribut\n",
    "label_counts = object_attributes.apply(lambda x: x.nunique())\n",
    "\n",
    "# Menampilkan hasil\n",
    "print(\"Jumlah label untuk atribut dengan tipe data 'object':\")\n",
    "print(label_counts)"
   ]
  },
  {
   "cell_type": "code",
   "execution_count": 21,
   "metadata": {},
   "outputs": [
    {
     "name": "stdout",
     "output_type": "stream",
     "text": [
      "<class 'pandas.core.frame.DataFrame'>\n",
      "RangeIndex: 1500 entries, 0 to 1499\n",
      "Data columns (total 5 columns):\n",
      " #   Column                 Non-Null Count  Dtype  \n",
      "---  ------                 --------------  -----  \n",
      " 0   ID                     1500 non-null   int64  \n",
      " 1   Registration_Duration  1500 non-null   int64  \n",
      " 2   Revenue                1500 non-null   int64  \n",
      " 3   Cost                   1500 non-null   float64\n",
      " 4   Renewal                1500 non-null   bool   \n",
      "dtypes: bool(1), float64(1), int64(3)\n",
      "memory usage: 48.5 KB\n"
     ]
    }
   ],
   "source": [
    "data.info()"
   ]
  },
  {
   "cell_type": "code",
   "execution_count": null,
   "metadata": {},
   "outputs": [],
   "source": []
  }
 ],
 "metadata": {
  "kernelspec": {
   "display_name": "Python 3",
   "language": "python",
   "name": "python3"
  },
  "language_info": {
   "codemirror_mode": {
    "name": "ipython",
    "version": 3
   },
   "file_extension": ".py",
   "mimetype": "text/x-python",
   "name": "python",
   "nbconvert_exporter": "python",
   "pygments_lexer": "ipython3",
   "version": "3.10.7"
  },
  "orig_nbformat": 4
 },
 "nbformat": 4,
 "nbformat_minor": 2
}
